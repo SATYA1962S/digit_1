{
  "nbformat": 4,
  "nbformat_minor": 0,
  "metadata": {
    "colab": {
      "provenance": [],
      "machine_shape": "hm",
      "gpuType": "V5E1",
      "authorship_tag": "ABX9TyOAhomvtbIKdzbfhM3ThT4X",
      "include_colab_link": true
    },
    "kernelspec": {
      "name": "python3",
      "display_name": "Python 3"
    },
    "language_info": {
      "name": "python"
    },
    "accelerator": "TPU"
  },
  "cells": [
    {
      "cell_type": "markdown",
      "metadata": {
        "id": "view-in-github",
        "colab_type": "text"
      },
      "source": [
        "<a href=\"https://colab.research.google.com/github/SATYA1962S/digit_1/blob/main/mmlm2025_1.ipynb\" target=\"_parent\"><img src=\"https://colab.research.google.com/assets/colab-badge.svg\" alt=\"Open In Colab\"/></a>"
      ]
    },
    {
      "cell_type": "code",
      "execution_count": 2,
      "metadata": {
        "id": "36dnXxxArgIp"
      },
      "outputs": [],
      "source": [
        "import numpy as np\n",
        "import pandas as pd\n",
        "from sklearn import *\n",
        "#import redisAI\n",
        "import glob"
      ]
    },
    {
      "cell_type": "code",
      "source": [
        "!pip install kaggle"
      ],
      "metadata": {
        "colab": {
          "base_uri": "https://localhost:8080/"
        },
        "id": "S6hNv7GZsw5z",
        "outputId": "541da2d6-7946-482e-de7b-a65333cadc59"
      },
      "execution_count": 3,
      "outputs": [
        {
          "output_type": "stream",
          "name": "stdout",
          "text": [
            "Requirement already satisfied: kaggle in /usr/local/lib/python3.11/dist-packages (1.6.17)\n",
            "Requirement already satisfied: six>=1.10 in /usr/local/lib/python3.11/dist-packages (from kaggle) (1.17.0)\n",
            "Requirement already satisfied: certifi>=2023.7.22 in /usr/local/lib/python3.11/dist-packages (from kaggle) (2025.1.31)\n",
            "Requirement already satisfied: python-dateutil in /usr/local/lib/python3.11/dist-packages (from kaggle) (2.9.0.post0)\n",
            "Requirement already satisfied: requests in /usr/local/lib/python3.11/dist-packages (from kaggle) (2.32.3)\n",
            "Requirement already satisfied: tqdm in /usr/local/lib/python3.11/dist-packages (from kaggle) (4.67.1)\n",
            "Requirement already satisfied: python-slugify in /usr/local/lib/python3.11/dist-packages (from kaggle) (8.0.4)\n",
            "Requirement already satisfied: urllib3 in /usr/local/lib/python3.11/dist-packages (from kaggle) (2.3.0)\n",
            "Requirement already satisfied: bleach in /usr/local/lib/python3.11/dist-packages (from kaggle) (6.2.0)\n",
            "Requirement already satisfied: webencodings in /usr/local/lib/python3.11/dist-packages (from bleach->kaggle) (0.5.1)\n",
            "Requirement already satisfied: text-unidecode>=1.3 in /usr/local/lib/python3.11/dist-packages (from python-slugify->kaggle) (1.3)\n",
            "Requirement already satisfied: charset-normalizer<4,>=2 in /usr/local/lib/python3.11/dist-packages (from requests->kaggle) (3.4.1)\n",
            "Requirement already satisfied: idna<4,>=2.5 in /usr/local/lib/python3.11/dist-packages (from requests->kaggle) (3.10)\n"
          ]
        }
      ]
    },
    {
      "cell_type": "code",
      "source": [
        "from google.colab import files\n",
        "files.upload()  # Upload the kaggle.json file"
      ],
      "metadata": {
        "colab": {
          "base_uri": "https://localhost:8080/",
          "height": 90
        },
        "id": "ys6sJqfdtJzu",
        "outputId": "143703e5-cf27-47b4-9b1b-320aaa9146b8"
      },
      "execution_count": 4,
      "outputs": [
        {
          "output_type": "display_data",
          "data": {
            "text/plain": [
              "<IPython.core.display.HTML object>"
            ],
            "text/html": [
              "\n",
              "     <input type=\"file\" id=\"files-48bbb0d9-68d3-4411-b205-77759dade3ca\" name=\"files[]\" multiple disabled\n",
              "        style=\"border:none\" />\n",
              "     <output id=\"result-48bbb0d9-68d3-4411-b205-77759dade3ca\">\n",
              "      Upload widget is only available when the cell has been executed in the\n",
              "      current browser session. Please rerun this cell to enable.\n",
              "      </output>\n",
              "      <script>// Copyright 2017 Google LLC\n",
              "//\n",
              "// Licensed under the Apache License, Version 2.0 (the \"License\");\n",
              "// you may not use this file except in compliance with the License.\n",
              "// You may obtain a copy of the License at\n",
              "//\n",
              "//      http://www.apache.org/licenses/LICENSE-2.0\n",
              "//\n",
              "// Unless required by applicable law or agreed to in writing, software\n",
              "// distributed under the License is distributed on an \"AS IS\" BASIS,\n",
              "// WITHOUT WARRANTIES OR CONDITIONS OF ANY KIND, either express or implied.\n",
              "// See the License for the specific language governing permissions and\n",
              "// limitations under the License.\n",
              "\n",
              "/**\n",
              " * @fileoverview Helpers for google.colab Python module.\n",
              " */\n",
              "(function(scope) {\n",
              "function span(text, styleAttributes = {}) {\n",
              "  const element = document.createElement('span');\n",
              "  element.textContent = text;\n",
              "  for (const key of Object.keys(styleAttributes)) {\n",
              "    element.style[key] = styleAttributes[key];\n",
              "  }\n",
              "  return element;\n",
              "}\n",
              "\n",
              "// Max number of bytes which will be uploaded at a time.\n",
              "const MAX_PAYLOAD_SIZE = 100 * 1024;\n",
              "\n",
              "function _uploadFiles(inputId, outputId) {\n",
              "  const steps = uploadFilesStep(inputId, outputId);\n",
              "  const outputElement = document.getElementById(outputId);\n",
              "  // Cache steps on the outputElement to make it available for the next call\n",
              "  // to uploadFilesContinue from Python.\n",
              "  outputElement.steps = steps;\n",
              "\n",
              "  return _uploadFilesContinue(outputId);\n",
              "}\n",
              "\n",
              "// This is roughly an async generator (not supported in the browser yet),\n",
              "// where there are multiple asynchronous steps and the Python side is going\n",
              "// to poll for completion of each step.\n",
              "// This uses a Promise to block the python side on completion of each step,\n",
              "// then passes the result of the previous step as the input to the next step.\n",
              "function _uploadFilesContinue(outputId) {\n",
              "  const outputElement = document.getElementById(outputId);\n",
              "  const steps = outputElement.steps;\n",
              "\n",
              "  const next = steps.next(outputElement.lastPromiseValue);\n",
              "  return Promise.resolve(next.value.promise).then((value) => {\n",
              "    // Cache the last promise value to make it available to the next\n",
              "    // step of the generator.\n",
              "    outputElement.lastPromiseValue = value;\n",
              "    return next.value.response;\n",
              "  });\n",
              "}\n",
              "\n",
              "/**\n",
              " * Generator function which is called between each async step of the upload\n",
              " * process.\n",
              " * @param {string} inputId Element ID of the input file picker element.\n",
              " * @param {string} outputId Element ID of the output display.\n",
              " * @return {!Iterable<!Object>} Iterable of next steps.\n",
              " */\n",
              "function* uploadFilesStep(inputId, outputId) {\n",
              "  const inputElement = document.getElementById(inputId);\n",
              "  inputElement.disabled = false;\n",
              "\n",
              "  const outputElement = document.getElementById(outputId);\n",
              "  outputElement.innerHTML = '';\n",
              "\n",
              "  const pickedPromise = new Promise((resolve) => {\n",
              "    inputElement.addEventListener('change', (e) => {\n",
              "      resolve(e.target.files);\n",
              "    });\n",
              "  });\n",
              "\n",
              "  const cancel = document.createElement('button');\n",
              "  inputElement.parentElement.appendChild(cancel);\n",
              "  cancel.textContent = 'Cancel upload';\n",
              "  const cancelPromise = new Promise((resolve) => {\n",
              "    cancel.onclick = () => {\n",
              "      resolve(null);\n",
              "    };\n",
              "  });\n",
              "\n",
              "  // Wait for the user to pick the files.\n",
              "  const files = yield {\n",
              "    promise: Promise.race([pickedPromise, cancelPromise]),\n",
              "    response: {\n",
              "      action: 'starting',\n",
              "    }\n",
              "  };\n",
              "\n",
              "  cancel.remove();\n",
              "\n",
              "  // Disable the input element since further picks are not allowed.\n",
              "  inputElement.disabled = true;\n",
              "\n",
              "  if (!files) {\n",
              "    return {\n",
              "      response: {\n",
              "        action: 'complete',\n",
              "      }\n",
              "    };\n",
              "  }\n",
              "\n",
              "  for (const file of files) {\n",
              "    const li = document.createElement('li');\n",
              "    li.append(span(file.name, {fontWeight: 'bold'}));\n",
              "    li.append(span(\n",
              "        `(${file.type || 'n/a'}) - ${file.size} bytes, ` +\n",
              "        `last modified: ${\n",
              "            file.lastModifiedDate ? file.lastModifiedDate.toLocaleDateString() :\n",
              "                                    'n/a'} - `));\n",
              "    const percent = span('0% done');\n",
              "    li.appendChild(percent);\n",
              "\n",
              "    outputElement.appendChild(li);\n",
              "\n",
              "    const fileDataPromise = new Promise((resolve) => {\n",
              "      const reader = new FileReader();\n",
              "      reader.onload = (e) => {\n",
              "        resolve(e.target.result);\n",
              "      };\n",
              "      reader.readAsArrayBuffer(file);\n",
              "    });\n",
              "    // Wait for the data to be ready.\n",
              "    let fileData = yield {\n",
              "      promise: fileDataPromise,\n",
              "      response: {\n",
              "        action: 'continue',\n",
              "      }\n",
              "    };\n",
              "\n",
              "    // Use a chunked sending to avoid message size limits. See b/62115660.\n",
              "    let position = 0;\n",
              "    do {\n",
              "      const length = Math.min(fileData.byteLength - position, MAX_PAYLOAD_SIZE);\n",
              "      const chunk = new Uint8Array(fileData, position, length);\n",
              "      position += length;\n",
              "\n",
              "      const base64 = btoa(String.fromCharCode.apply(null, chunk));\n",
              "      yield {\n",
              "        response: {\n",
              "          action: 'append',\n",
              "          file: file.name,\n",
              "          data: base64,\n",
              "        },\n",
              "      };\n",
              "\n",
              "      let percentDone = fileData.byteLength === 0 ?\n",
              "          100 :\n",
              "          Math.round((position / fileData.byteLength) * 100);\n",
              "      percent.textContent = `${percentDone}% done`;\n",
              "\n",
              "    } while (position < fileData.byteLength);\n",
              "  }\n",
              "\n",
              "  // All done.\n",
              "  yield {\n",
              "    response: {\n",
              "      action: 'complete',\n",
              "    }\n",
              "  };\n",
              "}\n",
              "\n",
              "scope.google = scope.google || {};\n",
              "scope.google.colab = scope.google.colab || {};\n",
              "scope.google.colab._files = {\n",
              "  _uploadFiles,\n",
              "  _uploadFilesContinue,\n",
              "};\n",
              "})(self);\n",
              "</script> "
            ]
          },
          "metadata": {}
        },
        {
          "output_type": "stream",
          "name": "stdout",
          "text": [
            "Saving kaggle.json to kaggle.json\n"
          ]
        },
        {
          "output_type": "execute_result",
          "data": {
            "text/plain": [
              "{'kaggle.json': b'{\"username\":\"satya1962s\",\"key\":\"cced216dc9a3815ad633d14956591283\"}'}"
            ]
          },
          "metadata": {},
          "execution_count": 4
        }
      ]
    },
    {
      "cell_type": "code",
      "source": [
        "!mkdir -p ~/.config/kaggle  # Create the correct directory\n",
        "!mv /content/kaggle.json ~/.config/kaggle/  # Move the file to the new directory\n",
        "!chmod 600 ~/.config/kaggle/kaggle.json  # Set permissions"
      ],
      "metadata": {
        "id": "gS9jWiootdc1"
      },
      "execution_count": 5,
      "outputs": []
    },
    {
      "cell_type": "code",
      "source": [
        "!kaggle competitions download -c march-machine-learning-mania-2025"
      ],
      "metadata": {
        "colab": {
          "base_uri": "https://localhost:8080/"
        },
        "id": "CmePgT9ftrH5",
        "outputId": "2c8c54b3-de2a-4473-9519-ba9c225e914b"
      },
      "execution_count": 6,
      "outputs": [
        {
          "output_type": "stream",
          "name": "stdout",
          "text": [
            "Downloading march-machine-learning-mania-2025.zip to /content\n",
            " 30% 10.0M/33.8M [00:00<00:00, 40.2MB/s]\n",
            "100% 33.8M/33.8M [00:00<00:00, 114MB/s] \n"
          ]
        }
      ]
    },
    {
      "cell_type": "code",
      "source": [
        "! unzip  march-machine-learning-mania-2025"
      ],
      "metadata": {
        "colab": {
          "base_uri": "https://localhost:8080/"
        },
        "id": "eXDeTzznuHxO",
        "outputId": "2bf1aa57-0eb1-4540-fc22-8ffd5ad24a80"
      },
      "execution_count": 7,
      "outputs": [
        {
          "output_type": "stream",
          "name": "stdout",
          "text": [
            "Archive:  march-machine-learning-mania-2025.zip\n",
            "  inflating: Cities.csv              \n",
            "  inflating: Conferences.csv         \n",
            "  inflating: MConferenceTourneyGames.csv  \n",
            "  inflating: MGameCities.csv         \n",
            "  inflating: MMasseyOrdinals.csv     \n",
            "  inflating: MNCAATourneyCompactResults.csv  \n",
            "  inflating: MNCAATourneyDetailedResults.csv  \n",
            "  inflating: MNCAATourneySeedRoundSlots.csv  \n",
            "  inflating: MNCAATourneySeeds.csv   \n",
            "  inflating: MNCAATourneySlots.csv   \n",
            "  inflating: MRegularSeasonCompactResults.csv  \n",
            "  inflating: MRegularSeasonDetailedResults.csv  \n",
            "  inflating: MSeasons.csv            \n",
            "  inflating: MSecondaryTourneyCompactResults.csv  \n",
            "  inflating: MSecondaryTourneyTeams.csv  \n",
            "  inflating: MTeamCoaches.csv        \n",
            "  inflating: MTeamConferences.csv    \n",
            "  inflating: MTeamSpellings.csv      \n",
            "  inflating: MTeams.csv              \n",
            "  inflating: SampleSubmissionStage1.csv  \n",
            "  inflating: SampleSubmissionStage2.csv  \n",
            "  inflating: SeedBenchmarkStage1.csv  \n",
            "  inflating: WConferenceTourneyGames.csv  \n",
            "  inflating: WGameCities.csv         \n",
            "  inflating: WNCAATourneyCompactResults.csv  \n",
            "  inflating: WNCAATourneyDetailedResults.csv  \n",
            "  inflating: WNCAATourneySeeds.csv   \n",
            "  inflating: WNCAATourneySlots.csv   \n",
            "  inflating: WRegularSeasonCompactResults.csv  \n",
            "  inflating: WRegularSeasonDetailedResults.csv  \n",
            "  inflating: WSeasons.csv            \n",
            "  inflating: WSecondaryTourneyCompactResults.csv  \n",
            "  inflating: WSecondaryTourneyTeams.csv  \n",
            "  inflating: WTeamConferences.csv    \n",
            "  inflating: WTeamSpellings.csv      \n",
            "  inflating: WTeams.csv              \n"
          ]
        }
      ]
    },
    {
      "cell_type": "code",
      "source": [
        "df_cities=pd.read_csv('Cities.csv')"
      ],
      "metadata": {
        "id": "h-FgpVAUzo9z"
      },
      "execution_count": 12,
      "outputs": []
    },
    {
      "cell_type": "code",
      "source": [
        "df_conferences = pd.read_csv('Conferences.csv')"
      ],
      "metadata": {
        "id": "QleNfSkq0wya"
      },
      "execution_count": 15,
      "outputs": []
    },
    {
      "cell_type": "code",
      "source": [
        "df_mconferenceTourneyGames = pd.read_csv('MConferenceTourneyGames.csv')"
      ],
      "metadata": {
        "id": "pAhvrjrj1sUf"
      },
      "execution_count": 17,
      "outputs": []
    },
    {
      "cell_type": "code",
      "source": [
        "df_mgamescities = pd.read_csv('MGameCities.csv')"
      ],
      "metadata": {
        "id": "0lrJbGL82R_R"
      },
      "execution_count": 19,
      "outputs": []
    },
    {
      "cell_type": "code",
      "source": [
        "df_mmasseyordinals = pd.read_csv('MMasseyOrdinals.csv')"
      ],
      "metadata": {
        "id": "qGmZZKX48m_B"
      },
      "execution_count": 21,
      "outputs": []
    },
    {
      "cell_type": "code",
      "source": [
        "df_mncaatourneycompactresults = pd.read_csv('MNCAATourneyCompactResults.csv')"
      ],
      "metadata": {
        "id": "LouS3iva9Oh6"
      },
      "execution_count": 22,
      "outputs": []
    },
    {
      "cell_type": "code",
      "source": [
        "df_mncaatourneydetailedresults = pd.read_csv('MNCAATourneyDetailedResults.csv')"
      ],
      "metadata": {
        "id": "4X0_V0Or-Mc-"
      },
      "execution_count": 25,
      "outputs": []
    },
    {
      "cell_type": "code",
      "source": [
        "df_mncaatourneyseedroundslots = pd.read_csv('MNCAATourneySeedRoundSlots.csv')"
      ],
      "metadata": {
        "id": "hUdIanRn_CTQ"
      },
      "execution_count": 26,
      "outputs": []
    },
    {
      "cell_type": "code",
      "source": [
        "df_mncaatourneyseeds = pd.read_csv('MNCAATourneySeeds.csv')"
      ],
      "metadata": {
        "id": "I12igwwF_srM"
      },
      "execution_count": 27,
      "outputs": []
    },
    {
      "cell_type": "code",
      "source": [
        "df_mncaatourneyslots = pd.read_csv('MNCAATourneySlots.csv')"
      ],
      "metadata": {
        "id": "nnZegtwHADAa"
      },
      "execution_count": 28,
      "outputs": []
    },
    {
      "cell_type": "code",
      "source": [
        "df_mregularseasoncompactresults = pd.read_csv('MRegularSeasonCompactResults.csv')"
      ],
      "metadata": {
        "id": "SSfIAYOt_du_"
      },
      "execution_count": 29,
      "outputs": []
    },
    {
      "cell_type": "code",
      "source": [
        "df_mregularseasondetailedresults = pd.read_csv('MRegularSeasonDetailedResults.csv')"
      ],
      "metadata": {
        "id": "iUsXmj1cA3yz"
      },
      "execution_count": 30,
      "outputs": []
    },
    {
      "cell_type": "code",
      "source": [
        "df_mseasons = pd.read_csv('MSeasons.csv')"
      ],
      "metadata": {
        "id": "aIh2OIFbBWiZ"
      },
      "execution_count": 32,
      "outputs": []
    },
    {
      "cell_type": "code",
      "source": [
        "df_msecondarttourneycompactresults = pd.read_csv('MSecondaryTourneyCompactResults.csv')"
      ],
      "metadata": {
        "id": "k1VhXMNlCA7s"
      },
      "execution_count": 33,
      "outputs": []
    },
    {
      "cell_type": "code",
      "source": [
        "df_msecondarttourneyteams = pd.read_csv('MSecondaryTourneyTeams.csv')"
      ],
      "metadata": {
        "id": "VHvm--W4CkA2"
      },
      "execution_count": 34,
      "outputs": []
    },
    {
      "cell_type": "code",
      "source": [
        "df_mteamcoaches = pd.read_csv('MTeamCoaches.csv')"
      ],
      "metadata": {
        "id": "QoUo1DjkDPu3"
      },
      "execution_count": 36,
      "outputs": []
    },
    {
      "cell_type": "code",
      "source": [
        "df_mteamconferences = pd.read_csv('MTeamConferences.csv')"
      ],
      "metadata": {
        "id": "hx0O3ZmZD5zs"
      },
      "execution_count": 38,
      "outputs": []
    },
    {
      "cell_type": "code",
      "source": [
        "df_mteams = pd.read_csv('MTeams.csv')"
      ],
      "metadata": {
        "id": "mtAzwtZVEiwy"
      },
      "execution_count": 42,
      "outputs": []
    },
    {
      "cell_type": "code",
      "source": [
        "# Try common encodings\n",
        "df_nrteams_spellings = pd.read_csv('MTeamSpellings.csv', encoding='latin1')\n",
        "# or\n",
        "df_nrteams_spellings = pd.read_csv('MTeamSpellings.csv', encoding='Windows-1252')"
      ],
      "metadata": {
        "id": "VDQoDhlTGH4T"
      },
      "execution_count": 45,
      "outputs": []
    },
    {
      "cell_type": "code",
      "source": [],
      "metadata": {
        "id": "-X5BLIIlIp7_"
      },
      "execution_count": null,
      "outputs": []
    }
  ]
}